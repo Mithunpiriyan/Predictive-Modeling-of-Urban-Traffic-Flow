{
 "cells": [
  {
   "cell_type": "code",
   "execution_count": 1,
   "id": "d47f2a21",
   "metadata": {},
   "outputs": [
    {
     "ename": "ModuleNotFoundError",
     "evalue": "No module named 'matplotlib'",
     "output_type": "error",
     "traceback": [
      "\u001b[1;31m---------------------------------------------------------------------------\u001b[0m",
      "\u001b[1;31mModuleNotFoundError\u001b[0m                       Traceback (most recent call last)",
      "Cell \u001b[1;32mIn[1], line 2\u001b[0m\n\u001b[0;32m      1\u001b[0m \u001b[38;5;28;01mimport\u001b[39;00m \u001b[38;5;21;01mnumpy\u001b[39;00m \u001b[38;5;28;01mas\u001b[39;00m \u001b[38;5;21;01mnp\u001b[39;00m\n\u001b[1;32m----> 2\u001b[0m \u001b[38;5;28;01mimport\u001b[39;00m \u001b[38;5;21;01mmatplotlib\u001b[39;00m\u001b[38;5;21;01m.\u001b[39;00m\u001b[38;5;21;01mpyplot\u001b[39;00m \u001b[38;5;28;01mas\u001b[39;00m \u001b[38;5;21;01mplt\u001b[39;00m\n\u001b[0;32m      4\u001b[0m \u001b[38;5;66;03m# Parameters\u001b[39;00m\n\u001b[0;32m      5\u001b[0m grid_size \u001b[38;5;241m=\u001b[39m \u001b[38;5;241m50\u001b[39m\n",
      "\u001b[1;31mModuleNotFoundError\u001b[0m: No module named 'matplotlib'"
     ]
    }
   ],
   "source": [
    "import numpy as np\n",
    "import matplotlib.pyplot as plt\n",
    "\n",
    "# Parameters\n",
    "grid_size = 50\n",
    "diffusion_coefficient = 0.1\n",
    "time_steps = 100\n",
    "\n",
    "# Initialize grid with initial traffic density\n",
    "traffic_grid = np.zeros((grid_size, grid_size))\n",
    "traffic_grid[grid_size//2, grid_size//2] = 1.0  # Initial congestion at the center\n",
    "\n",
    "# Diffusion process\n",
    "for t in range(time_steps):\n",
    "    # Apply diffusion\n",
    "    next_traffic_grid = np.zeros_like(traffic_grid)\n",
    "    for i in range(1, grid_size - 1):\n",
    "        for j in range(1, grid_size - 1):\n",
    "            next_traffic_grid[i, j] = traffic_grid[i, j] + diffusion_coefficient * (\n",
    "                    traffic_grid[i + 1, j] + traffic_grid[i - 1, j] +\n",
    "                    traffic_grid[i, j + 1] + traffic_grid[i, j - 1] - 4 * traffic_grid[i, j])\n",
    "\n",
    "    # Update grid\n",
    "    traffic_grid = next_traffic_grid\n",
    "\n",
    "    # Visualization\n",
    "    plt.imshow(traffic_grid, cmap='hot', interpolation='nearest')\n",
    "    plt.title(f'Time Step: {t}')\n",
    "    plt.colorbar()\n",
    "    plt.show()\n"
   ]
  },
  {
   "cell_type": "code",
   "execution_count": null,
   "id": "5a376684",
   "metadata": {},
   "outputs": [],
   "source": []
  }
 ],
 "metadata": {
  "kernelspec": {
   "display_name": "Python 3 (ipykernel)",
   "language": "python",
   "name": "python3"
  },
  "language_info": {
   "codemirror_mode": {
    "name": "ipython",
    "version": 3
   },
   "file_extension": ".py",
   "mimetype": "text/x-python",
   "name": "python",
   "nbconvert_exporter": "python",
   "pygments_lexer": "ipython3",
   "version": "3.11.4"
  }
 },
 "nbformat": 4,
 "nbformat_minor": 5
}
